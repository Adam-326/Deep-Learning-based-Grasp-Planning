{
 "cells": [
  {
   "cell_type": "code",
   "execution_count": 1,
   "metadata": {},
   "outputs": [],
   "source": [
    "import numpy as np\n",
    "import cv2\n",
    "from skimage.morphology import closing, square "
   ]
  },
  {
   "cell_type": "code",
   "execution_count": 2,
   "metadata": {},
   "outputs": [],
   "source": [
    "seg_image = r'C:\\Users\\Adam Syammas Zaki P\\Documents\\Assignment\\Grasp Planning\\Simulation\\Image\\debug\\seg.png'\n",
    "depth =  r'C:\\Users\\Adam Syammas Zaki P\\Documents\\Assignment\\Grasp Planning\\Simulation\\Image\\debug\\depth.png'\n",
    "\n",
    "depth_img = cv2.imread(depth, cv2.IMREAD_GRAYSCALE)\n",
    "image_filt = cv2.GaussianBlur(depth_img, (11,11), 0)\n",
    "edge_im = cv2.Canny(image_filt, 10, 50)\n",
    "cv2.imwrite(r'C:\\Users\\Adam Syammas Zaki P\\Documents\\Assignment\\Grasp Planning\\Simulation\\Image\\edge.png', edge_im)\n",
    "cv2.imshow('image', edge_im)\n",
    "cv2.waitKey()\n",
    "\n",
    "image = cv2.imread(seg_image)\n",
    "gray = cv2.cvtColor(image, cv2.COLOR_BGR2GRAY)\n"
   ]
  },
  {
   "cell_type": "code",
   "execution_count": 3,
   "metadata": {},
   "outputs": [],
   "source": [
    "new_gray = closing(gray, square(4))"
   ]
  },
  {
   "cell_type": "code",
   "execution_count": 4,
   "metadata": {},
   "outputs": [
    {
     "data": {
      "text/plain": [
       "-1"
      ]
     },
     "execution_count": 4,
     "metadata": {},
     "output_type": "execute_result"
    }
   ],
   "source": [
    "cv2.imshow('image', new_gray)\n",
    "cv2.waitKey()"
   ]
  },
  {
   "cell_type": "code",
   "execution_count": 5,
   "metadata": {},
   "outputs": [
    {
     "data": {
      "text/plain": [
       "-1"
      ]
     },
     "execution_count": 5,
     "metadata": {},
     "output_type": "execute_result"
    }
   ],
   "source": [
    "new_edge_im = cv2.Canny(new_gray, 10, 50)\n",
    "cv2.imwrite(r'C:\\Users\\Adam Syammas Zaki P\\Documents\\Assignment\\Grasp Planning\\Simulation\\Image\\newedge.png', new_edge_im)\n",
    "cv2.imshow('image', new_edge_im)\n",
    "cv2.waitKey()"
   ]
  },
  {
   "cell_type": "code",
   "execution_count": 6,
   "metadata": {},
   "outputs": [
    {
     "data": {
      "text/plain": [
       "(224, 224)"
      ]
     },
     "execution_count": 6,
     "metadata": {},
     "output_type": "execute_result"
    }
   ],
   "source": [
    "new_gray.shape"
   ]
  },
  {
   "cell_type": "code",
   "execution_count": 11,
   "metadata": {},
   "outputs": [
    {
     "data": {
      "text/plain": [
       "array([[30, 30, 30, ..., 30, 30, 30],\n",
       "       [30, 30, 30, ..., 30, 30, 30],\n",
       "       [30, 30, 30, ..., 30, 30, 30],\n",
       "       ...,\n",
       "       [30, 30, 30, ..., 30, 30, 30],\n",
       "       [30, 30, 30, ..., 30, 30, 30],\n",
       "       [30, 30, 30, ..., 30, 30, 30]], dtype=uint8)"
      ]
     },
     "execution_count": 11,
     "metadata": {},
     "output_type": "execute_result"
    }
   ],
   "source": [
    "gray"
   ]
  },
  {
   "cell_type": "code",
   "execution_count": null,
   "metadata": {},
   "outputs": [],
   "source": []
  },
  {
   "cell_type": "code",
   "execution_count": null,
   "metadata": {},
   "outputs": [],
   "source": []
  },
  {
   "cell_type": "code",
   "execution_count": null,
   "metadata": {},
   "outputs": [],
   "source": []
  },
  {
   "cell_type": "code",
   "execution_count": null,
   "metadata": {},
   "outputs": [],
   "source": []
  },
  {
   "cell_type": "code",
   "execution_count": null,
   "metadata": {},
   "outputs": [],
   "source": []
  }
 ],
 "metadata": {
  "kernelspec": {
   "display_name": "Python 3",
   "language": "python",
   "name": "python3"
  },
  "language_info": {
   "codemirror_mode": {
    "name": "ipython",
    "version": 3
   },
   "file_extension": ".py",
   "mimetype": "text/x-python",
   "name": "python",
   "nbconvert_exporter": "python",
   "pygments_lexer": "ipython3",
   "version": "3.7.3"
  }
 },
 "nbformat": 4,
 "nbformat_minor": 2
}
