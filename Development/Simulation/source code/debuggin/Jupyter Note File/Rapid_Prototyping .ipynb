{
 "cells": [
  {
   "cell_type": "code",
   "execution_count": null,
   "metadata": {
    "collapsed": true
   },
   "outputs": [],
   "source": [
    "import numpy as np\n",
    "import cv2"
   ]
  },
  {
   "cell_type": "code",
   "execution_count": null,
   "metadata": {
    "collapsed": false
   },
   "outputs": [],
   "source": [
    "depth_path = r'C:\\Users\\Furihata\\Desktop\\Adam\\Grasp Planning\\Simulation\\Real Depth Image\\3\\1.png'"
   ]
  },
  {
   "cell_type": "code",
   "execution_count": null,
   "metadata": {
    "collapsed": true
   },
   "outputs": [],
   "source": [
    "image = cv2.imread(depth_path, cv2.IMREAD_GRAYSCALE)\n",
    "image = 255 - image\n",
    "filt = cv2.GaussianBlur(image, (11,11), 0)"
   ]
  },
  {
   "cell_type": "code",
   "execution_count": null,
   "metadata": {
    "collapsed": false
   },
   "outputs": [],
   "source": [
    "import matplotlib.pyplot as plt\n",
    "plt.imshow(image, cmap = 'gray')\n",
    "plt.show()"
   ]
  },
  {
   "cell_type": "code",
   "execution_count": null,
   "metadata": {
    "collapsed": false
   },
   "outputs": [],
   "source": []
  },
  {
   "cell_type": "code",
   "execution_count": null,
   "metadata": {
    "collapsed": false
   },
   "outputs": [],
   "source": [
    "edge_im = cv2.Canny(image, 10, 50)"
   ]
  },
  {
   "cell_type": "code",
   "execution_count": null,
   "metadata": {
    "collapsed": false
   },
   "outputs": [],
   "source": [
    "image.shape"
   ]
  },
  {
   "cell_type": "code",
   "execution_count": null,
   "metadata": {
    "collapsed": false
   },
   "outputs": [],
   "source": [
    "plt.imshow(edge_im,  cmap='Greys')\n",
    "plt.show()"
   ]
  },
  {
   "cell_type": "code",
   "execution_count": null,
   "metadata": {
    "collapsed": false
   },
   "outputs": [],
   "source": [
    "image.shape"
   ]
  },
  {
   "cell_type": "code",
   "execution_count": null,
   "metadata": {
    "collapsed": false
   },
   "outputs": [],
   "source": [
    "image_cropped = image[124:1024, 380:1280]\n",
    "image_cropped = cv2.resize(image_cropped, (224, 224))"
   ]
  },
  {
   "cell_type": "code",
   "execution_count": null,
   "metadata": {
    "collapsed": false
   },
   "outputs": [],
   "source": [
    "plt.imshow(image_cropped, cmap = 'gray')\n",
    "plt.show()"
   ]
  },
  {
   "cell_type": "code",
   "execution_count": null,
   "metadata": {
    "collapsed": false
   },
   "outputs": [],
   "source": [
    "import Img_antipodal_sampler as spl"
   ]
  },
  {
   "cell_type": "code",
   "execution_count": null,
   "metadata": {
    "collapsed": true
   },
   "outputs": [],
   "source": [
    "image_filt = cv2.GaussianBlur(image_cropped, (5,5), 0)"
   ]
  },
  {
   "cell_type": "code",
   "execution_count": null,
   "metadata": {
    "collapsed": false
   },
   "outputs": [],
   "source": [
    "edge_im = cv2.Canny(image_filt, 5, 60)"
   ]
  },
  {
   "cell_type": "code",
   "execution_count": null,
   "metadata": {
    "collapsed": false
   },
   "outputs": [],
   "source": [
    "normal_px, edge_px, = spl.normals(image_cropped, edge_im)"
   ]
  },
  {
   "cell_type": "code",
   "execution_count": null,
   "metadata": {
    "collapsed": true
   },
   "outputs": [],
   "source": [
    "grasps, grasp_normals, centers = spl.antipodal_sampler(edge_px, normal_px)"
   ]
  },
  {
   "cell_type": "code",
   "execution_count": null,
   "metadata": {
    "collapsed": true
   },
   "outputs": [],
   "source": [
    "save_arr = r'C:\\Users\\Furihata\\Desktop\\Adam\\Grasp Planning\\Simulation\\Image\\realgrasps.png'\n",
    "depth_loc = r'C:\\Users\\Furihata\\Desktop\\Adam\\Grasp Planning\\Simulation\\Image\\realdepth.png'"
   ]
  },
  {
   "cell_type": "code",
   "execution_count": null,
   "metadata": {
    "collapsed": false
   },
   "outputs": [],
   "source": [
    "plt.imsave(depth_loc, image_cropped, cmap = 'gray')"
   ]
  },
  {
   "cell_type": "code",
   "execution_count": null,
   "metadata": {
    "collapsed": false
   },
   "outputs": [],
   "source": [
    "spl.draw_grasps(grasps, depth_loc, save_arr)"
   ]
  },
  {
   "cell_type": "code",
   "execution_count": null,
   "metadata": {
    "collapsed": true
   },
   "outputs": [],
   "source": []
  },
  {
   "cell_type": "code",
   "execution_count": null,
   "metadata": {
    "collapsed": true
   },
   "outputs": [],
   "source": []
  },
  {
   "cell_type": "code",
   "execution_count": null,
   "metadata": {
    "collapsed": true
   },
   "outputs": [],
   "source": []
  },
  {
   "cell_type": "code",
   "execution_count": null,
   "metadata": {
    "collapsed": true
   },
   "outputs": [],
   "source": []
  },
  {
   "cell_type": "code",
   "execution_count": 1,
   "metadata": {
    "collapsed": true
   },
   "outputs": [],
   "source": [
    "import cv2\n",
    "import matplotlib.pyplot as plt"
   ]
  },
  {
   "cell_type": "code",
   "execution_count": 2,
   "metadata": {
    "collapsed": true
   },
   "outputs": [],
   "source": [
    "def collision_est(depth, seg, ID, grasps, width):\n",
    "    collision_scores = []\n",
    "    #epth_boundings = []\n",
    "   #seg_boundings = []\n",
    "   #depth_fulls = []\n",
    "   #seg_fulls = [] \n",
    "    for i in range(len(grasps)):\n",
    "        \n",
    "        seg = seg.astype('float32')\n",
    "        depth = depth.astype('float32')\n",
    "        \n",
    "        grasp_vector =  grasps[i,1] - grasps[i,0]\n",
    "        grasp_center = ((grasps[i,0] + grasps[i,1]) / 2).astype(int)\n",
    "        angle = np.arctan2(grasp_vector[1], grasp_vector[0]) * 180 / np.pi\n",
    "        \n",
    "        M = cv2.getRotationMatrix2D((grasp_center[0], grasp_center[1]), angle, 1.0)\n",
    "        \n",
    "        depth_im_val = cv2.warpAffine(depth, M, (depth.shape))\n",
    "        seg_im_val = cv2.warpAffine(seg, M, (seg.shape))\n",
    "        \n",
    "        left = int(grasp_center[0] - (width/2))\n",
    "        right = int(grasp_center[0] + (width/2))    \n",
    "        top = grasp_center[1] - 30\n",
    "        bottom = grasp_center[1] + 30\n",
    "\n",
    "        #seg_full = seg_im_val[top:bottom, left:right]\n",
    "        #depth_full = depth_im_val[top:bottom, left:right]\n",
    "\n",
    "        part_ID = ID[i]\n",
    "        seg_bounding = seg_im_val[grasp_center[1]-7:grasp_center[1]+7, left:right]\n",
    "        depth_bounding = depth_im_val[grasp_center[1]-7:grasp_center[1]+7, left:right]\n",
    "        part_indices = np.where(seg_bounding == part_ID) #in the form of [[row1, row2, .....], [column1, column2,.....]]\n",
    "        nonpart_indices = np.where(seg_bounding != part_ID) #in the form of [[row1, row2, .....], [column1, column2,.....]]\n",
    "        seg_bounding[part_indices[0], part_indices[1]] = 1\n",
    "        seg_bounding[nonpart_indices[0], nonpart_indices[1]] = 0\n",
    "\n",
    "        part_depth_val = depth_bounding[part_indices[0], part_indices[1]]\n",
    "       \n",
    "        treshold = np.mean(part_depth_val)\n",
    "        \n",
    "        seg_copy = np.copy(seg_bounding)\n",
    "        \n",
    "        cs_indices = np.where((seg_bounding == 0) &\n",
    "                              (depth_bounding <= treshold))\n",
    "        seg_copy[cs_indices[0], cs_indices[1]] = 1\n",
    "\n",
    "        if(len(cs_indices[0]) > 50):\n",
    "            cl_score = 1\n",
    "        else:\n",
    "            cl_score = 0\n",
    "        \n",
    "        plt.imshow(depth_bounding, cmap = 'gray_r')\n",
    "        plt.show()\n",
    "        plt.imshow(seg_bounding,cmap = 'gray')\n",
    "        plt.show()\n",
    "        plt.imshow(seg_copy, cmap = 'gray')\n",
    "        plt.show()\n",
    "        print(cl_score)\n",
    "            \n",
    "        collision_scores.append(cl_score)\n",
    "        \n",
    "            \n",
    "    return np.asarray(collision_scores) #, depth_boundings, depth_fulls, seg_boundings, seg_fulls"
   ]
  },
  {
   "cell_type": "code",
   "execution_count": 3,
   "metadata": {
    "collapsed": false
   },
   "outputs": [
    {
     "ename": "FileNotFoundError",
     "evalue": "[Errno 2] No such file or directory: 'depth.npy'",
     "output_type": "error",
     "traceback": [
      "\u001b[0;31m---------------------------------------------------------------------------\u001b[0m",
      "\u001b[0;31mFileNotFoundError\u001b[0m                         Traceback (most recent call last)",
      "\u001b[0;32m<ipython-input-3-e2581fc92207>\u001b[0m in \u001b[0;36m<module>\u001b[0;34m()\u001b[0m\n\u001b[1;32m      1\u001b[0m \u001b[1;32mimport\u001b[0m \u001b[0mnumpy\u001b[0m \u001b[1;32mas\u001b[0m \u001b[0mnp\u001b[0m\u001b[1;33m\u001b[0m\u001b[0m\n\u001b[0;32m----> 2\u001b[0;31m \u001b[0mdepthImg\u001b[0m \u001b[1;33m=\u001b[0m \u001b[0mnp\u001b[0m\u001b[1;33m.\u001b[0m\u001b[0mload\u001b[0m\u001b[1;33m(\u001b[0m\u001b[1;34m'depth.npy'\u001b[0m\u001b[1;33m)\u001b[0m\u001b[1;33m\u001b[0m\u001b[0m\n\u001b[0m\u001b[1;32m      3\u001b[0m \u001b[0msegImg\u001b[0m \u001b[1;33m=\u001b[0m \u001b[0mnp\u001b[0m\u001b[1;33m.\u001b[0m\u001b[0mload\u001b[0m\u001b[1;33m(\u001b[0m\u001b[1;34m'seg.npy'\u001b[0m\u001b[1;33m)\u001b[0m\u001b[1;33m\u001b[0m\u001b[0m\n\u001b[1;32m      4\u001b[0m \u001b[0mgrasps\u001b[0m \u001b[1;33m=\u001b[0m \u001b[0mnp\u001b[0m\u001b[1;33m.\u001b[0m\u001b[0mload\u001b[0m\u001b[1;33m(\u001b[0m\u001b[1;34m'grasps.npy'\u001b[0m\u001b[1;33m)\u001b[0m\u001b[1;33m\u001b[0m\u001b[0m\n\u001b[1;32m      5\u001b[0m \u001b[0mID\u001b[0m \u001b[1;33m=\u001b[0m \u001b[0mnp\u001b[0m\u001b[1;33m.\u001b[0m\u001b[0mload\u001b[0m\u001b[1;33m(\u001b[0m\u001b[1;34m'ID.npy'\u001b[0m\u001b[1;33m)\u001b[0m\u001b[1;33m\u001b[0m\u001b[0m\n",
      "\u001b[0;32mC:\\Users\\Furihata\\AppData\\Roaming\\Python\\Python35\\site-packages\\numpy\\lib\\npyio.py\u001b[0m in \u001b[0;36mload\u001b[0;34m(file, mmap_mode, allow_pickle, fix_imports, encoding)\u001b[0m\n\u001b[1;32m    426\u001b[0m         \u001b[0mown_fid\u001b[0m \u001b[1;33m=\u001b[0m \u001b[1;32mFalse\u001b[0m\u001b[1;33m\u001b[0m\u001b[0m\n\u001b[1;32m    427\u001b[0m     \u001b[1;32melse\u001b[0m\u001b[1;33m:\u001b[0m\u001b[1;33m\u001b[0m\u001b[0m\n\u001b[0;32m--> 428\u001b[0;31m         \u001b[0mfid\u001b[0m \u001b[1;33m=\u001b[0m \u001b[0mopen\u001b[0m\u001b[1;33m(\u001b[0m\u001b[0mos_fspath\u001b[0m\u001b[1;33m(\u001b[0m\u001b[0mfile\u001b[0m\u001b[1;33m)\u001b[0m\u001b[1;33m,\u001b[0m \u001b[1;34m\"rb\"\u001b[0m\u001b[1;33m)\u001b[0m\u001b[1;33m\u001b[0m\u001b[0m\n\u001b[0m\u001b[1;32m    429\u001b[0m         \u001b[0mown_fid\u001b[0m \u001b[1;33m=\u001b[0m \u001b[1;32mTrue\u001b[0m\u001b[1;33m\u001b[0m\u001b[0m\n\u001b[1;32m    430\u001b[0m \u001b[1;33m\u001b[0m\u001b[0m\n",
      "\u001b[0;31mFileNotFoundError\u001b[0m: [Errno 2] No such file or directory: 'depth.npy'"
     ]
    }
   ],
   "source": [
    "import numpy as np\n",
    "depthImg = np.load('depth.npy')\n",
    "segImg = np.load('seg.npy')\n",
    "grasps = np.load('grasps.npy')\n",
    "ID = np.load('ID.npy')"
   ]
  },
  {
   "cell_type": "code",
   "execution_count": null,
   "metadata": {
    "collapsed": false
   },
   "outputs": [],
   "source": [
    "collision_scores = collision_est(depthImg, segImg, ID, grasps, 24)"
   ]
  },
  {
   "cell_type": "code",
   "execution_count": null,
   "metadata": {
    "collapsed": false
   },
   "outputs": [],
   "source": [
    "import matplotlib.pyplot as plt\n",
    "for i in range(len(grasps)):\n",
    "    plt.imshow(seg_fulls[i])\n",
    "    plt.show()\n",
    "    plt.imshow(depth_fulls[i], cmap = 'gray_r')\n",
    "    plt.show()\n",
    "    plt.imshow(seg_boundings[i])\n",
    "    plt.show()\n",
    "    plt.imshow(depth_boundings[i], cmap = 'gray_r')\n",
    "    plt.show()\n",
    "    print(collision_scores[i], '\\n')"
   ]
  },
  {
   "cell_type": "code",
   "execution_count": null,
   "metadata": {
    "collapsed": false
   },
   "outputs": [],
   "source": []
  },
  {
   "cell_type": "code",
   "execution_count": null,
   "metadata": {
    "collapsed": false
   },
   "outputs": [],
   "source": []
  },
  {
   "cell_type": "code",
   "execution_count": null,
   "metadata": {
    "collapsed": true
   },
   "outputs": [],
   "source": []
  },
  {
   "cell_type": "code",
   "execution_count": null,
   "metadata": {
    "collapsed": false
   },
   "outputs": [],
   "source": []
  },
  {
   "cell_type": "code",
   "execution_count": null,
   "metadata": {
    "collapsed": true
   },
   "outputs": [],
   "source": []
  }
 ],
 "metadata": {
  "anaconda-cloud": {},
  "kernelspec": {
   "display_name": "Python [conda root]",
   "language": "python",
   "name": "conda-root-py"
  },
  "language_info": {
   "codemirror_mode": {
    "name": "ipython",
    "version": 3
   },
   "file_extension": ".py",
   "mimetype": "text/x-python",
   "name": "python",
   "nbconvert_exporter": "python",
   "pygments_lexer": "ipython3",
   "version": "3.5.6"
  }
 },
 "nbformat": 4,
 "nbformat_minor": 1
}
